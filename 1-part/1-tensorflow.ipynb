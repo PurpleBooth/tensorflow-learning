{
 "cells": [
  {
   "cell_type": "markdown",
   "source": [
    "# Tensorflow\n",
    "\n",
    "Tensorflow is (in it's v1 incarnation), a library, that aims to build a calculation engine. It allows you to create representations of equasions that are then compiled into a more efficient version of themselves. This is done with Vectorisation and I assume some very clever *mathgic*. Below we'll create an addition equation out of tensors to prove it.\n",
    "\n",
    "First lets check tensorflow is actually installed."
   ],
   "metadata": {
    "collapsed": false
   }
  },
  {
   "cell_type": "code",
   "execution_count": null,
   "metadata": {
    "collapsed": true,
    "pycharm": {
     "is_executing": true
    }
   },
   "outputs": [],
   "source": [
    "import tensorflow as tf\n",
    "print(\"TensorFlow version:\", tf.__version__)"
   ]
  },
  {
   "cell_type": "markdown",
   "source": [
    "Next let's try it out! Let's add two numbers together (because we can)"
   ],
   "metadata": {
    "collapsed": false
   }
  },
  {
   "cell_type": "code",
   "execution_count": null,
   "outputs": [],
   "source": [
    "a = tf.convert_to_tensor(value=4.6, dtype=tf.float32)\n",
    "b = tf.convert_to_tensor(value=5.4, dtype=tf.float32)\n",
    "\n",
    "add = tf.math.add(a, b)\n",
    "\n",
    "result = add\n",
    "\n",
    "print(result)"
   ],
   "metadata": {
    "collapsed": false,
    "pycharm": {
     "name": "#%%\n",
     "is_executing": true
    }
   }
  },
  {
   "cell_type": "markdown",
   "source": [
    "## Following on\n",
    "\n",
    "1. What other things can you see in the math namespace?\n",
    "2. What was the big change in v2?"
   ],
   "metadata": {
    "collapsed": false,
    "pycharm": {
     "name": "#%% md\n"
    }
   }
  }
 ],
 "metadata": {
  "kernelspec": {
   "display_name": "Python 3",
   "language": "python",
   "name": "python3"
  },
  "language_info": {
   "codemirror_mode": {
    "name": "ipython",
    "version": 2
   },
   "file_extension": ".py",
   "mimetype": "text/x-python",
   "name": "python",
   "nbconvert_exporter": "python",
   "pygments_lexer": "ipython2",
   "version": "2.7.6"
  }
 },
 "nbformat": 4,
 "nbformat_minor": 0
}