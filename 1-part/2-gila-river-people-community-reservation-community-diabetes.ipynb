{
 "cells": [
  {
   "cell_type": "markdown",
   "source": [
    "# Akimel O’odham and Diabetes\n",
    "\n",
    "The Akimel O’odham, or Gila River People, who were noted for their technological prowess and agricultural skills, live in America. After the Americas was colonized by the British, and subsequently gained it's independence their diet changed significantly from their mostly farmed diet. This caused high levels of diabetes in a localised area, that prior studies hadn't found before this diet change.\n",
    "\n",
    "In 1965, the Epidemiology and Field Studies Branch of the National Institute of Arthritis, Diabetes and Digestive and Kidney Diseases (catchy name, I know) in partnership with the Indian Health Service sent a team to begin an observational study of the Pima community at Gila River. The research lasted 40 years, and has been one of the most important bits of research involving diabetes.\n",
    "\n",
    "In this study we will use their data to train a neural network, that can tell us given 8 inputs, to a probability of about 80~% if the person has Diabetes.\n",
    "\n",
    "## Firstly we need to import our libraries"
   ],
   "metadata": {
    "collapsed": false
   }
  },
  {
   "cell_type": "code",
   "execution_count": 321,
   "outputs": [],
   "source": [
    "import numpy as np\n",
    "import pandas as pd\n",
    "import tensorflow as tf\n",
    "from sklearn.model_selection import train_test_split"
   ],
   "metadata": {
    "collapsed": false,
    "pycharm": {
     "name": "#%%\n"
    }
   }
  },
  {
   "cell_type": "markdown",
   "source": [
    "## Stochastic Models\n",
    "\n",
    "Stochastic models use randomness (or probability based if you prefer) and often require multiple runs to produce results. We will be using a stochastic model in this, so to make life a bit easier, we're going to fix the seed at 7, so you always get the same results."
   ],
   "metadata": {
    "collapsed": false,
    "pycharm": {
     "name": "#%% md\n"
    }
   }
  },
  {
   "cell_type": "code",
   "execution_count": 322,
   "outputs": [],
   "source": [
    "seed = 7\n",
    "np.random.seed(seed)"
   ],
   "metadata": {
    "collapsed": false,
    "pycharm": {
     "name": "#%%\n"
    }
   }
  },
  {
   "cell_type": "markdown",
   "source": [
    "## Lets have a sneaky peak at that data\n",
    "\n",
    "This will all make sense a bit more if we can get a bit of a look at the features that we're working with here."
   ],
   "metadata": {
    "collapsed": false
   }
  },
  {
   "cell_type": "code",
   "execution_count": null,
   "outputs": [],
   "source": [
    "df = pd.read_csv(\"diabetes.csv\")\n",
    "df"
   ],
   "metadata": {
    "collapsed": false,
    "pycharm": {
     "name": "#%%\n",
     "is_executing": true
    }
   }
  },
  {
   "cell_type": "markdown",
   "source": [
    "Ok so far so good, lets pull this out into the result column (y) and the rest of the data (x), we're going to convert this to numpy, which is a vector based array calculation library that tensorflow understands.\n",
    "\n",
    "These look like this when they are at home"
   ],
   "metadata": {
    "collapsed": false
   }
  },
  {
   "cell_type": "code",
   "execution_count": null,
   "outputs": [],
   "source": [
    "y = df.Outcome.to_numpy()\n",
    "x = df.drop(columns=[\"Outcome\"]).to_numpy()\n",
    "x"
   ],
   "metadata": {
    "collapsed": false,
    "pycharm": {
     "name": "#%%\n",
     "is_executing": true
    }
   }
  },
  {
   "cell_type": "code",
   "execution_count": null,
   "outputs": [],
   "source": [
    "y"
   ],
   "metadata": {
    "collapsed": false,
    "pycharm": {
     "name": "#%%\n",
     "is_executing": true
    }
   }
  },
  {
   "cell_type": "markdown",
   "source": [
    "## Are we making our network too specific?\n",
    "Since neural networks are trying to find a line of \"best fit\", one which predicts the trend within a dataset, we might brute force ourselves to a wrong answer, one that is so specific to the dataset that it doesn't work with anything else. This is called overfitting, and to avoid that we're going to reserve ⅓ of the data for testing, so we can be sure the neural net will work on data it hasn't seen before.."
   ],
   "metadata": {
    "collapsed": false
   }
  },
  {
   "cell_type": "code",
   "execution_count": 326,
   "outputs": [],
   "source": [
    "train_x, test_x, train_y, test_y = train_test_split(x, y, test_size=0.33, random_state=seed)"
   ],
   "metadata": {
    "collapsed": false,
    "pycharm": {
     "name": "#%%\n"
    }
   }
  },
  {
   "cell_type": "markdown",
   "source": [
    "## Building up the network\n",
    "\n",
    "There's a few things going on here, but what we are going to do is create a 3 layer neural net with 1 layer of 12, two layers of 8 and one layer of 1. These are a \"Dense\" layer (the most common), and they connect all other nodes in the layers above and below.\n",
    "\n",
    "Each of these has an activation theshold. This is like a line that when reached, it will cause the perceptron (a single neuron) to fire, combining the inputs with an intial value. `relu` is the most common activation, and `random_uniform` is a very common initializer.\n"
   ],
   "metadata": {
    "collapsed": false
   }
  },
  {
   "cell_type": "code",
   "execution_count": 327,
   "outputs": [],
   "source": [
    "model = tf.keras.Sequential()\n",
    "model.add(\n",
    "    tf.keras.layers.Dense(\n",
    "        12,\n",
    "        kernel_initializer=tf.keras.initializers.random_uniform,\n",
    "        activation=tf.keras.activations.relu\n",
    "    )\n",
    ")\n",
    "model.add(\n",
    "    tf.keras.layers.Dense(\n",
    "        8,\n",
    "        kernel_initializer=tf.keras.initializers.random_uniform,\n",
    "        activation=tf.keras.activations.relu\n",
    "    )\n",
    ")\n",
    "model.add(\n",
    "    tf.keras.layers.Dense(\n",
    "        8,\n",
    "        kernel_initializer=tf.keras.initializers.random_uniform,\n",
    "        activation=tf.keras.activations.relu\n",
    "    )\n",
    ")\n",
    "model.add(\n",
    "    tf.keras.layers.Dense(\n",
    "        1,\n",
    "        kernel_initializer=tf.keras.initializers.random_uniform,\n",
    "        activation=tf.keras.activations.sigmoid\n",
    "    )\n",
    ")\n",
    "\n",
    "model.compile(\n",
    "    loss=tf.keras.losses.BinaryCrossentropy(),\n",
    "    optimizer=tf.keras.optimizers.Adam(),\n",
    "    metrics=[tf.keras.metrics.binary_accuracy]\n",
    ")"
   ],
   "metadata": {
    "collapsed": false,
    "pycharm": {
     "name": "#%%\n"
    }
   }
  },
  {
   "cell_type": "markdown",
   "source": [
    "## Fitting\n",
    "\n",
    "This is the process of sending our training values into the neural network and recording the state of the neurons, more and more values are fired in until we get a initial values that produce somewhere close to our training sets target output values, in our case the column in `y`, which was called `\"Outcome\"` in the CSV. Epochs is the number of iterations to run, and batch size controls how fast the neural network will train, the bigger the batch size, the more memory you need, but the faster it will go. Your batch size should be in powers of 2 and fit into memory.\n",
    "\n",
    "This adjustment is done with both `loss`, which is a measurement of error, and an `optimizer`, which adjusts that value and applies it for the next iteration to the perceptrons."
   ],
   "metadata": {
    "collapsed": false
   }
  },
  {
   "cell_type": "code",
   "execution_count": null,
   "outputs": [],
   "source": [
    "model.fit(train_x, train_y, epochs=500, batch_size=10)"
   ],
   "metadata": {
    "collapsed": false,
    "pycharm": {
     "name": "#%%\n",
     "is_executing": true
    }
   }
  },
  {
   "cell_type": "markdown",
   "source": [
    "## Now we see how well it worked\n",
    "\n",
    "Well that's all well and good, but like, what does that give us. Lets feed our test data in and see."
   ],
   "metadata": {
    "collapsed": false,
    "pycharm": {
     "name": "#%% md\n"
    }
   }
  },
  {
   "cell_type": "code",
   "execution_count": null,
   "outputs": [],
   "source": [
    "scores = model.evaluate(test_x, test_y)\n",
    "scores"
   ],
   "metadata": {
    "collapsed": false,
    "pycharm": {
     "name": "#%%\n",
     "is_executing": true
    }
   }
  },
  {
   "cell_type": "markdown",
   "source": [
    "Hmm, that's not super helpful, lets add some names."
   ],
   "metadata": {
    "collapsed": false,
    "pycharm": {
     "name": "#%% md\n"
    }
   }
  },
  {
   "cell_type": "code",
   "execution_count": null,
   "outputs": [],
   "source": [
    "print(f\"{model.metrics_names[0]}: {scores[0] * 100}\")\n",
    "print(f\"{model.metrics_names[1]}: {scores[1] * 100}%\")"
   ],
   "metadata": {
    "collapsed": false,
    "pycharm": {
     "name": "#%%\n",
     "is_executing": true
    }
   }
  },
  {
   "cell_type": "markdown",
   "source": [],
   "metadata": {
    "collapsed": false,
    "pycharm": {
     "name": "#%% md\n"
    }
   }
  },
  {
   "cell_type": "code",
   "execution_count": null,
   "outputs": [],
   "source": [
    "inputs = pd.DataFrame.from_dict(\n",
    "    {\n",
    "        \"Pregnancies\": [6],\n",
    "        \"Glucose\": [148],\n",
    "        \"BloodPressure\": [72],\n",
    "        \"SkinThickness\": [35],\n",
    "        \"Insulin\": [169.5],\n",
    "        \"BMI\": [33.6],\n",
    "        \"DiabetesPedigreeFunction\": [0.627],\n",
    "        \"Age\": [50]\n",
    "    }\n",
    ")\n",
    "inputs"
   ],
   "metadata": {
    "collapsed": false,
    "pycharm": {
     "name": "#%%\n",
     "is_executing": true
    }
   }
  },
  {
   "cell_type": "code",
   "execution_count": null,
   "outputs": [],
   "source": [
    "predictions = model.predict(\n",
    "    inputs.to_numpy()\n",
    ")\n",
    "print(f\"{predictions[0][0]} probability that this person has diabetes\")"
   ],
   "metadata": {
    "collapsed": false,
    "pycharm": {
     "name": "#%%\n",
     "is_executing": true
    }
   }
  },
  {
   "cell_type": "markdown",
   "source": [
    "## Following on\n",
    "\n",
    "1. What other activation functions are available?\n",
    "2. What other initialisation functions are available?\n",
    "3. What other layers are available?\n",
    "4. How do you feel about helping develop models to detect diabetes?"
   ],
   "metadata": {
    "collapsed": false
   }
  }
 ],
 "metadata": {
  "kernelspec": {
   "display_name": "Python 3",
   "language": "python",
   "name": "python3"
  },
  "language_info": {
   "codemirror_mode": {
    "name": "ipython",
    "version": 2
   },
   "file_extension": ".py",
   "mimetype": "text/x-python",
   "name": "python",
   "nbconvert_exporter": "python",
   "pygments_lexer": "ipython2",
   "version": "2.7.6"
  }
 },
 "nbformat": 4,
 "nbformat_minor": 0
}