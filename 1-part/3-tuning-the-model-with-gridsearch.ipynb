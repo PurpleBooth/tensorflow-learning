{
 "cells": [
  {
   "cell_type": "markdown",
   "source": [
    "# Improving the model\n",
    "## Let's load the data"
   ],
   "metadata": {
    "collapsed": false
   }
  },
  {
   "cell_type": "code",
   "execution_count": 49,
   "outputs": [],
   "source": [
    "import pandas as pd\n",
    "import tensorflow as tf\n",
    "from sklearn.model_selection import GridSearchCV\n",
    "from tensorflow.python.keras.wrappers.scikit_learn import KerasClassifier\n",
    "\n",
    "df = pd.read_csv(\"diabetes.csv\")"
   ],
   "metadata": {
    "collapsed": false,
    "pycharm": {
     "name": "#%%\n"
    }
   }
  },
  {
   "cell_type": "markdown",
   "source": [
    "## Data\n",
    "\n",
    "Firstly the data you put in makes the biggest difference to how well your network will perform. In this case this dataset has some additional information that is in the blurb that isn't in the dataset itself."
   ],
   "metadata": {
    "collapsed": false
   }
  },
  {
   "cell_type": "markdown",
   "source": [
    "Now lets add if those ranges are within normals. Here's the normals from [Kaggle](https://www.kaggle.com/jamaltariqcheema/pima-indians-diabetes-dataset)\n",
    "\n",
    "\n",
    "> Glucose: Glucose (< 140) = Normal, Glucose (140-200) = Pre-Diabetic, Glucose (> 200) = Diabetic\n",
    "> BloodPressure: B.P (< 60) = Below Normal, B.P (60-80) = Normal, B.P (80-90) = Stage 1 Hypertension, B.P (90-120) = Stage 2 Hypertension, B.P (> 120) = Hypertensive Crisis\n",
    "> SkinThickness: SkinThickness (< 10) = Below Normal, SkinThickness (10-30) = Normal, SkinThickness (> 30) = Above Normal\n",
    "> Insulin: Insulin (< 200) = Normal, Insulin (> 200) = Above Normal\n",
    "> BMI: BMI (< 18.5) = Underweight, BMI (18.5-25) = Normal, BMI (25-30) = Overweight, BMI (> 30) = Obese\n"
   ],
   "metadata": {
    "collapsed": false,
    "pycharm": {
     "name": "#%% md\n"
    }
   }
  },
  {
   "cell_type": "code",
   "execution_count": null,
   "outputs": [],
   "source": [
    "df[\"GlucoseRange\"] = pd.cut(df['Glucose'], [0, 140, 200, 999], labels=[0, 1, 2])\n",
    "df[\"BloodPressureRange\"] = pd.cut(df['BloodPressure'], [0, 60, 80, 90, 120, 999], labels=[0, 1, 2, 3, 4])\n",
    "df[\"SkinThicknessRange\"] = pd.cut(df['SkinThickness'], [0, 10, 30, 999], labels=[0, 1, 2])\n",
    "df[\"InsulinRange\"] = pd.cut(df['Insulin'], [0, 200, 999], labels=[0, 1])\n",
    "df[\"BMIRange\"] = pd.cut(df['BMI'], [0, 18.5, 25, 30, 999], labels=[0, 1, 2, 3])\n",
    "df"
   ],
   "metadata": {
    "collapsed": false,
    "pycharm": {
     "name": "#%%\n",
     "is_executing": true
    }
   }
  },
  {
   "cell_type": "markdown",
   "source": [
    "Now we pull out the data from"
   ],
   "metadata": {
    "collapsed": false
   }
  },
  {
   "cell_type": "code",
   "execution_count": 51,
   "outputs": [],
   "source": [
    "y = df.Outcome.to_numpy()\n",
    "x = df.drop(columns=[\"Outcome\"]).to_numpy()"
   ],
   "metadata": {
    "collapsed": false,
    "pycharm": {
     "name": "#%%\n"
    }
   }
  },
  {
   "cell_type": "markdown",
   "source": [
    "## Now the exciting bit\n",
    "\n",
    "Lets load up our neural net. Note that this time we are creating it in a function, and we have changed the layers a little. A good rule of thumb is\n",
    "\n",
    "![Rule of thumb](./img.png \"Rule of thumb\")\n",
    "\n",
    "In our case we have `767/(5*(13*1))`, so a bit over `11`. There's loads of advice on this fantastic post on [Stack Overflow](https://stats.stackexchange.com/questions/181/how-to-choose-the-number-of-hidden-layers-and-nodes-in-a-feedforward-neural-netw)."
   ],
   "metadata": {
    "collapsed": false,
    "pycharm": {
     "name": "#%% md\n"
    }
   }
  },
  {
   "cell_type": "code",
   "execution_count": 52,
   "outputs": [],
   "source": [
    "def create_model(optimizer, kernel_initializer):\n",
    "    model = tf.keras.Sequential()\n",
    "    model.add(\n",
    "        tf.keras.layers.Dense(\n",
    "            7,\n",
    "\n",
    "            kernel_initializer=kernel_initializer,\n",
    "            activation=tf.keras.activations.relu\n",
    "        )\n",
    "    )\n",
    "    model.add(\n",
    "        tf.keras.layers.Dense(\n",
    "            3,\n",
    "            kernel_initializer=kernel_initializer,\n",
    "            activation=tf.keras.activations.relu\n",
    "        )\n",
    "    )\n",
    "    model.add(\n",
    "        tf.keras.layers.Dense(\n",
    "            1,\n",
    "            kernel_initializer=kernel_initializer,\n",
    "            activation=tf.keras.activations.sigmoid\n",
    "        )\n",
    "    )\n",
    "\n",
    "    model.compile(\n",
    "        loss=tf.keras.losses.BinaryCrossentropy(),\n",
    "        optimizer=optimizer,\n",
    "        metrics=[\n",
    "            tf.keras.metrics.BinaryAccuracy(name=\"accuracy\"),\n",
    "        ]\n",
    "    )\n",
    "    return model"
   ],
   "metadata": {
    "collapsed": false,
    "pycharm": {
     "name": "#%%\n"
    }
   }
  },
  {
   "cell_type": "markdown",
   "source": [
    "## Finding the rest of the parameters\n",
    "\n",
    "We are going to use something called a KFold evaluating the model in a Grid Search. the important things to know about this is it's going to brute force its way through your parameters (in like a mathy, sort of efficient way) and try and find the best combination of inputs to create an efficient network. It also handles holding back some data for testing, so we don't need to sample a percentage of the data ourselves."
   ],
   "metadata": {
    "collapsed": false
   }
  },
  {
   "cell_type": "code",
   "execution_count": null,
   "outputs": [],
   "source": [
    "classifier = KerasClassifier(build_fn=create_model)\n",
    "grid = GridSearchCV(\n",
    "    estimator=classifier,\n",
    "    param_grid={\n",
    "        \"batch_size\": [10, 15, 20],\n",
    "        \"epochs\": list(range(50, 200, 50)),\n",
    "        \"kernel_initializer\": [\n",
    "            tf.keras.initializers.random_uniform,\n",
    "            tf.keras.initializers.random_normal,\n",
    "            tf.keras.initializers.glorot_uniform,\n",
    "        ],\n",
    "        \"optimizer\": [tf.keras.optimizers.Adam(), tf.keras.optimizers.RMSprop()]\n",
    "    },\n",
    ")\n",
    "grid_result = grid.fit(x, y)"
   ],
   "metadata": {
    "collapsed": false,
    "pycharm": {
     "name": "#%%\n",
     "is_executing": true
    }
   }
  },
  {
   "cell_type": "markdown",
   "source": [
    "## Aaaand your model is done\n",
    "\n",
    "Did you have a nice break? Get a good coffee? Awesome!\n",
    "\n",
    "Your result should be a good 5% better than before when you have made the changes that were found. According to [Kaggle](https://www.kaggle.com/jamaltariqcheema/pima-indians-diabetes-dataset) 92% is the score to beat."
   ],
   "metadata": {
    "collapsed": false
   }
  },
  {
   "cell_type": "code",
   "execution_count": null,
   "outputs": [],
   "source": [
    "grid_result.best_score_"
   ],
   "metadata": {
    "collapsed": false,
    "pycharm": {
     "name": "#%%\n"
    }
   }
  },
  {
   "cell_type": "code",
   "execution_count": null,
   "outputs": [],
   "source": [
    "grid_result.best_params_"
   ],
   "metadata": {
    "collapsed": false,
    "pycharm": {
     "name": "#%%\n"
    }
   }
  },
  {
   "cell_type": "markdown",
   "source": [
    "Now we have the best parameters for this.\n",
    "\n",
    "## Following on\n",
    "\n",
    "1. What other things could you include in your search?\n",
    "2. How might you iterate with a grid search which minimising development time?\n",
    "3. What other approaches might you take to tuning?"
   ],
   "metadata": {
    "collapsed": false
   }
  }
 ],
 "metadata": {
  "kernelspec": {
   "display_name": "Python 3",
   "language": "python",
   "name": "python3"
  },
  "language_info": {
   "codemirror_mode": {
    "name": "ipython",
    "version": 2
   },
   "file_extension": ".py",
   "mimetype": "text/x-python",
   "name": "python",
   "nbconvert_exporter": "python",
   "pygments_lexer": "ipython2",
   "version": "2.7.6"
  }
 },
 "nbformat": 4,
 "nbformat_minor": 0
}