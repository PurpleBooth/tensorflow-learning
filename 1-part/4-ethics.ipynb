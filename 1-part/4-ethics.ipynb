{
 "cells": [
  {
   "cell_type": "markdown",
   "metadata": {
    "collapsed": true,
    "pycharm": {
     "name": "#%% md\n"
    }
   },
   "source": [
    "# Ethics\n",
    "\n",
    "There's not going to be any cute little correlation spotting machines on this page. If you only read one article on this, page, read [“Digital Natives”: How Medical and Indigenous Histories Matter for Big Data](https://www.journals.uchicago.edu/doi/full/10.1086/693853). It's the story of the data you have just been using.\n",
    "\n",
    "Here are links to a bunch of articles and videos that made me feel uncomfortable about learning artificial intelligence\n",
    "\n",
    "* [“Digital Natives”: How Medical and Indigenous Histories Matter for Big Data](https://www.journals.uchicago.edu/doi/full/10.1086/693853)\n",
    "* [Spurious Correlations](https://tylervigen.com/spurious-correlations) [About](https://tylervigen.com/about)\n",
    "* [Microsoft Chat Bot Goes On Racist, Genocidal Twitter Rampage](https://www.huffpost.com/entry/microsoft-tay-racist-tweets_n_56f3e678e4b04c4c37615502)\n",
    "* [Is AI Racist? Sometimes](https://www.youtube.com/watch?v=X_fnsJIRL2s&list=PL_-uv7N8XX4OitDyERnkCp9O80_jpvIx6&index=3)\n",
    "* [You’ve Got Enron Mail!](https://99percentinvisible.org/episode/youve-got-enron-mail/)\n",
    "* [Machine Bias](https://www.propublica.org/article/machine-bias-risk-assessments-in-criminal-sentencing)\n",
    "\n",
    "## Following up\n",
    "\n",
    "1. How did it make you feel?\n",
    "2. How do you feel about the data?\n",
    "3. What will you do in the future?\n"
   ]
  }
 ],
 "metadata": {
  "kernelspec": {
   "display_name": "Python 3",
   "language": "python",
   "name": "python3"
  },
  "language_info": {
   "codemirror_mode": {
    "name": "ipython",
    "version": 2
   },
   "file_extension": ".py",
   "mimetype": "text/x-python",
   "name": "python",
   "nbconvert_exporter": "python",
   "pygments_lexer": "ipython2",
   "version": "2.7.6"
  }
 },
 "nbformat": 4,
 "nbformat_minor": 0
}